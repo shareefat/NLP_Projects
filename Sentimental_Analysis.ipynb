{
  "nbformat": 4,
  "nbformat_minor": 0,
  "metadata": {
    "colab": {
      "provenance": [],
      "authorship_tag": "ABX9TyPkJXu9p5iO1vqKii0kv3Hr"
    },
    "kernelspec": {
      "name": "python3",
      "display_name": "Python 3"
    },
    "language_info": {
      "name": "python"
    }
  },
  "cells": [
    {
      "cell_type": "code",
      "execution_count": 1,
      "metadata": {
        "colab": {
          "base_uri": "https://localhost:8080/"
        },
        "id": "WD2PUDkPB2Ss",
        "outputId": "01efbeb8-377b-4519-ae4b-36e63097f72a"
      },
      "outputs": [
        {
          "output_type": "stream",
          "name": "stderr",
          "text": [
            "[nltk_data] Downloading package vader_lexicon to /root/nltk_data...\n"
          ]
        },
        {
          "output_type": "execute_result",
          "data": {
            "text/plain": [
              "True"
            ]
          },
          "metadata": {},
          "execution_count": 1
        }
      ],
      "source": [
        "import nltk\n",
        "from nltk.sentiment import SentimentIntensityAnalyzer\n",
        "nltk.download('vader_lexicon')"
      ]
    },
    {
      "cell_type": "code",
      "source": [
        "sentiment = SentimentIntensityAnalyzer()\n",
        "text = \"I recently bought a new laptop, and I couldn't be happier with my purchase! The performance is amazing, the battery life lasts all day, and the display is stunning. The only downside is that it's a bit expensive, but overall, it's totally worth the price!\"\n",
        "score = sentiment.polarity_scores(text)\n",
        "print(score)"
      ],
      "metadata": {
        "colab": {
          "base_uri": "https://localhost:8080/"
        },
        "id": "1zaM090KCJks",
        "outputId": "510d0326-ae3e-4cbe-a77a-4fff6dff5cca"
      },
      "execution_count": 3,
      "outputs": [
        {
          "output_type": "stream",
          "name": "stdout",
          "text": [
            "{'neg': 0.072, 'neu': 0.767, 'pos': 0.161, 'compound': 0.6352}\n"
          ]
        }
      ]
    },
    {
      "cell_type": "code",
      "source": [
        "score['compound']"
      ],
      "metadata": {
        "colab": {
          "base_uri": "https://localhost:8080/"
        },
        "id": "ViSLlfVZCn_X",
        "outputId": "c8ede1ab-ecb3-4171-df33-753f907443da"
      },
      "execution_count": 4,
      "outputs": [
        {
          "output_type": "execute_result",
          "data": {
            "text/plain": [
              "0.6352"
            ]
          },
          "metadata": {},
          "execution_count": 4
        }
      ]
    },
    {
      "cell_type": "code",
      "source": [
        "if score['compound']>0:\n",
        "  print(\"the sentiment is positive\")\n",
        "elif score['compound']==0:\n",
        "  print(\"the sentiment is Neutral\")\n",
        "else:\n",
        "  print(\"the sentiment is negative\")"
      ],
      "metadata": {
        "colab": {
          "base_uri": "https://localhost:8080/"
        },
        "id": "DJ_4Y5w1CyeU",
        "outputId": "e162b518-ebc0-4c9f-fdb0-32edae99f57d"
      },
      "execution_count": 7,
      "outputs": [
        {
          "output_type": "stream",
          "name": "stdout",
          "text": [
            "the sentiment is positive\n"
          ]
        }
      ]
    }
  ]
}